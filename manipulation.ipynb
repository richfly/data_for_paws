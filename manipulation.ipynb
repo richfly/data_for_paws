{
 "cells": [
  {
   "cell_type": "code",
   "execution_count": 3,
   "id": "9a2758d5",
   "metadata": {},
   "outputs": [],
   "source": [
    "import pandas as pd\n",
    "import numpy as np\n",
    "\n",
    "df_2016 = pd.read_csv('data/2016_stats.csv')\n",
    "df_2017 = pd.read_csv('data/2017_stats.csv')\n",
    "df_2018 = pd.read_csv('data/2018_stats.csv')\n",
    "df_2019 = pd.read_csv('data/2019_stats.csv')\n",
    "df_2020 = pd.read_csv('data/2020_stats.csv')\n",
    "df_2021 = pd.read_csv('data/2021_stats.csv')\n",
    "df_2022 = pd.read_csv('data/2022_stats.csv')\n",
    "df_2023 = pd.read_csv('data/2023_stats.csv')\n",
    "df_2924 = pd.read_csv('data/2024_stats.csv')"
   ]
  },
  {
   "cell_type": "code",
   "execution_count": 6,
   "id": "7d77a8cf",
   "metadata": {},
   "outputs": [
    {
     "ename": "SupabaseException",
     "evalue": "supabase_url is required",
     "output_type": "error",
     "traceback": [
      "\u001b[31m---------------------------------------------------------------------------\u001b[39m",
      "\u001b[31mSupabaseException\u001b[39m                         Traceback (most recent call last)",
      "\u001b[36mCell\u001b[39m\u001b[36m \u001b[39m\u001b[32mIn[6]\u001b[39m\u001b[32m, line 9\u001b[39m\n\u001b[32m      7\u001b[39m url = os.getenv(\u001b[33m\"\u001b[39m\u001b[33mSUPABASE_URL\u001b[39m\u001b[33m\"\u001b[39m)\n\u001b[32m      8\u001b[39m key = os.getenv(\u001b[33m\"\u001b[39m\u001b[33mSUPABASE_KEY\u001b[39m\u001b[33m\"\u001b[39m)\n\u001b[32m----> \u001b[39m\u001b[32m9\u001b[39m supabase: Client = \u001b[43mcreate_client\u001b[49m\u001b[43m(\u001b[49m\u001b[43murl\u001b[49m\u001b[43m,\u001b[49m\u001b[43m \u001b[49m\u001b[43mkey\u001b[49m\u001b[43m)\u001b[49m\n\u001b[32m     10\u001b[39m \u001b[38;5;28;01mdef\u001b[39;00m\u001b[38;5;250m \u001b[39m\u001b[34mupload_dataframes_to_supabase\u001b[39m():\n\u001b[32m     11\u001b[39m     dataframes = {\n\u001b[32m     12\u001b[39m         \u001b[33m'\u001b[39m\u001b[33m2016_stats\u001b[39m\u001b[33m'\u001b[39m: df_2016,\n\u001b[32m     13\u001b[39m         \u001b[33m'\u001b[39m\u001b[33m2017_stats\u001b[39m\u001b[33m'\u001b[39m: df_2017,\n\u001b[32m   (...)\u001b[39m\u001b[32m     20\u001b[39m         \u001b[33m'\u001b[39m\u001b[33m2024_stats\u001b[39m\u001b[33m'\u001b[39m: df_2924\n\u001b[32m     21\u001b[39m     }\n",
      "\u001b[36mFile \u001b[39m\u001b[32m~/data_for_paws/.venv/lib/python3.11/site-packages/supabase/_sync/client.py:369\u001b[39m, in \u001b[36mcreate_client\u001b[39m\u001b[34m(supabase_url, supabase_key, options)\u001b[39m\n\u001b[32m    338\u001b[39m \u001b[38;5;28;01mdef\u001b[39;00m\u001b[38;5;250m \u001b[39m\u001b[34mcreate_client\u001b[39m(\n\u001b[32m    339\u001b[39m     supabase_url: \u001b[38;5;28mstr\u001b[39m,\n\u001b[32m    340\u001b[39m     supabase_key: \u001b[38;5;28mstr\u001b[39m,\n\u001b[32m    341\u001b[39m     options: Optional[ClientOptions] = \u001b[38;5;28;01mNone\u001b[39;00m,\n\u001b[32m    342\u001b[39m ) -> SyncClient:\n\u001b[32m    343\u001b[39m \u001b[38;5;250m    \u001b[39m\u001b[33;03m\"\"\"Create client function to instantiate supabase client like JS runtime.\u001b[39;00m\n\u001b[32m    344\u001b[39m \n\u001b[32m    345\u001b[39m \u001b[33;03m    Parameters\u001b[39;00m\n\u001b[32m   (...)\u001b[39m\u001b[32m    367\u001b[39m \u001b[33;03m    Client\u001b[39;00m\n\u001b[32m    368\u001b[39m \u001b[33;03m    \"\"\"\u001b[39;00m\n\u001b[32m--> \u001b[39m\u001b[32m369\u001b[39m     \u001b[38;5;28;01mreturn\u001b[39;00m \u001b[43mSyncClient\u001b[49m\u001b[43m.\u001b[49m\u001b[43mcreate\u001b[49m\u001b[43m(\u001b[49m\n\u001b[32m    370\u001b[39m \u001b[43m        \u001b[49m\u001b[43msupabase_url\u001b[49m\u001b[43m=\u001b[49m\u001b[43msupabase_url\u001b[49m\u001b[43m,\u001b[49m\u001b[43m \u001b[49m\u001b[43msupabase_key\u001b[49m\u001b[43m=\u001b[49m\u001b[43msupabase_key\u001b[49m\u001b[43m,\u001b[49m\u001b[43m \u001b[49m\u001b[43moptions\u001b[49m\u001b[43m=\u001b[49m\u001b[43moptions\u001b[49m\n\u001b[32m    371\u001b[39m \u001b[43m    \u001b[49m\u001b[43m)\u001b[49m\n",
      "\u001b[36mFile \u001b[39m\u001b[32m~/data_for_paws/.venv/lib/python3.11/site-packages/supabase/_sync/client.py:101\u001b[39m, in \u001b[36mSyncClient.create\u001b[39m\u001b[34m(cls, supabase_url, supabase_key, options)\u001b[39m\n\u001b[32m     93\u001b[39m \u001b[38;5;129m@classmethod\u001b[39m\n\u001b[32m     94\u001b[39m \u001b[38;5;28;01mdef\u001b[39;00m\u001b[38;5;250m \u001b[39m\u001b[34mcreate\u001b[39m(\n\u001b[32m     95\u001b[39m     \u001b[38;5;28mcls\u001b[39m,\n\u001b[32m   (...)\u001b[39m\u001b[32m     98\u001b[39m     options: Optional[ClientOptions] = \u001b[38;5;28;01mNone\u001b[39;00m,\n\u001b[32m     99\u001b[39m ):\n\u001b[32m    100\u001b[39m     auth_header = options.headers.get(\u001b[33m\"\u001b[39m\u001b[33mAuthorization\u001b[39m\u001b[33m\"\u001b[39m) \u001b[38;5;28;01mif\u001b[39;00m options \u001b[38;5;28;01melse\u001b[39;00m \u001b[38;5;28;01mNone\u001b[39;00m\n\u001b[32m--> \u001b[39m\u001b[32m101\u001b[39m     client = \u001b[38;5;28;43mcls\u001b[39;49m\u001b[43m(\u001b[49m\u001b[43msupabase_url\u001b[49m\u001b[43m,\u001b[49m\u001b[43m \u001b[49m\u001b[43msupabase_key\u001b[49m\u001b[43m,\u001b[49m\u001b[43m \u001b[49m\u001b[43moptions\u001b[49m\u001b[43m)\u001b[49m\n\u001b[32m    103\u001b[39m     \u001b[38;5;28;01mif\u001b[39;00m auth_header \u001b[38;5;129;01mis\u001b[39;00m \u001b[38;5;28;01mNone\u001b[39;00m:\n\u001b[32m    104\u001b[39m         \u001b[38;5;28;01mtry\u001b[39;00m:\n",
      "\u001b[36mFile \u001b[39m\u001b[32m~/data_for_paws/.venv/lib/python3.11/site-packages/supabase/_sync/client.py:53\u001b[39m, in \u001b[36mSyncClient.__init__\u001b[39m\u001b[34m(self, supabase_url, supabase_key, options)\u001b[39m\n\u001b[32m     39\u001b[39m \u001b[38;5;250m\u001b[39m\u001b[33;03m\"\"\"Instantiate the client.\u001b[39;00m\n\u001b[32m     40\u001b[39m \n\u001b[32m     41\u001b[39m \u001b[33;03mParameters\u001b[39;00m\n\u001b[32m   (...)\u001b[39m\u001b[32m     49\u001b[39m \u001b[33;03m    `DEFAULT_OPTIONS` dict.\u001b[39;00m\n\u001b[32m     50\u001b[39m \u001b[33;03m\"\"\"\u001b[39;00m\n\u001b[32m     52\u001b[39m \u001b[38;5;28;01mif\u001b[39;00m \u001b[38;5;129;01mnot\u001b[39;00m supabase_url:\n\u001b[32m---> \u001b[39m\u001b[32m53\u001b[39m     \u001b[38;5;28;01mraise\u001b[39;00m SupabaseException(\u001b[33m\"\u001b[39m\u001b[33msupabase_url is required\u001b[39m\u001b[33m\"\u001b[39m)\n\u001b[32m     54\u001b[39m \u001b[38;5;28;01mif\u001b[39;00m \u001b[38;5;129;01mnot\u001b[39;00m supabase_key:\n\u001b[32m     55\u001b[39m     \u001b[38;5;28;01mraise\u001b[39;00m SupabaseException(\u001b[33m\"\u001b[39m\u001b[33msupabase_key is required\u001b[39m\u001b[33m\"\u001b[39m)\n",
      "\u001b[31mSupabaseException\u001b[39m: supabase_url is required"
     ]
    }
   ],
   "source": [
    "from supabase import create_client, Client\n",
    "import os\n",
    "from dotenv import load_dotenv\n",
    "\n",
    "# Load credentials from environment variables for security\n",
    "load_dotenv()\n",
    "url = os.getenv(\"SUPABASE_URL\")\n",
    "key = os.getenv(\"SUPABASE_KEY\")\n",
    "supabase: Client = create_client(url, key)\n",
    "def upload_dataframes_to_supabase():\n",
    "    dataframes = {\n",
    "        '2016_stats': df_2016,\n",
    "        '2017_stats': df_2017,\n",
    "        '2018_stats': df_2018,\n",
    "        '2019_stats': df_2019,\n",
    "        '2020_stats': df_2020,\n",
    "        '2021_stats': df_2021,\n",
    "        '2022_stats': df_2022,\n",
    "        '2023_stats': df_2023,\n",
    "        '2024_stats': df_2924\n",
    "    }\n",
    "\n",
    "    for table_name, dataframe in dataframes.items():\n",
    "        response = supabase.table(table_name).insert(dataframe.to_dict(orient='records')).execute()\n",
    "        print(f\"Uploaded {table_name}: {response}\")"
   ]
  }
 ],
 "metadata": {
  "kernelspec": {
   "display_name": ".venv",
   "language": "python",
   "name": "python3"
  },
  "language_info": {
   "codemirror_mode": {
    "name": "ipython",
    "version": 3
   },
   "file_extension": ".py",
   "mimetype": "text/x-python",
   "name": "python",
   "nbconvert_exporter": "python",
   "pygments_lexer": "ipython3",
   "version": "3.11.13"
  }
 },
 "nbformat": 4,
 "nbformat_minor": 5
}
